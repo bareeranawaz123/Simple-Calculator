{
  "nbformat": 4,
  "nbformat_minor": 0,
  "metadata": {
    "colab": {
      "provenance": []
    },
    "kernelspec": {
      "name": "python3",
      "display_name": "Python 3"
    },
    "language_info": {
      "name": "python"
    }
  },
  "cells": [
    {
      "cell_type": "code",
      "source": [
        "##simple calculator\n",
        "\n",
        "num1 = float(input(\"Enter first number\"))\n",
        "\n",
        "\n",
        "\n",
        "num2 = float(input(\"Enter second number\"))\n",
        "\n",
        "\n",
        "\n",
        "\n",
        "sum = num1 + num2\n",
        "difference = num1 - num2\n",
        "product = num1 * num2\n",
        "quotient = num1 / num2\n",
        "\n",
        "print(\"sum:\" ,sum)\n",
        "print(\"differece:\" ,difference)\n",
        "print(\"product:\" ,product)\n",
        "print(\"quotient:\" ,quotient)\n",
        "\n"
      ],
      "metadata": {
        "colab": {
          "base_uri": "https://localhost:8080/"
        },
        "id": "qE-pn4UjA9GN",
        "outputId": "f1cb98f0-81cd-4c9d-968d-6d93ad075153"
      },
      "execution_count": 31,
      "outputs": [
        {
          "output_type": "stream",
          "name": "stdout",
          "text": [
            "Enter first number35\n",
            "Enter second number33\n",
            "sum: 68.0\n",
            "differece: 2.0\n",
            "product: 1155.0\n",
            "quotient: 1.0606060606060606\n"
          ]
        }
      ]
    },
    {
      "cell_type": "code",
      "source": [],
      "metadata": {
        "id": "vWRztrJRA9Wo"
      },
      "execution_count": null,
      "outputs": []
    }
  ]
}